{
 "cells": [
  {
   "cell_type": "code",
   "execution_count": 1,
   "id": "58fa9f6a",
   "metadata": {},
   "outputs": [
    {
     "name": "stdout",
     "output_type": "stream",
     "text": [
      "Collecting qrcodeNote: you may need to restart the kernel to use updated packages.\n",
      "\n",
      "  Downloading qrcode-8.0-py3-none-any.whl (45 kB)\n",
      "     -------------------------------------- 45.7/45.7 kB 377.3 kB/s eta 0:00:00\n",
      "Requirement already satisfied: colorama in c:\\users\\tapab\\anaconda3\\lib\\site-packages (from qrcode) (0.4.5)\n",
      "Installing collected packages: qrcode\n",
      "Successfully installed qrcode-8.0\n"
     ]
    }
   ],
   "source": [
    "pip install qrcode"
   ]
  },
  {
   "cell_type": "code",
   "execution_count": 4,
   "id": "e73b37ae",
   "metadata": {},
   "outputs": [],
   "source": [
    "import qrcode as qr\n",
    "img = qr.make(\"https://drive.google.com/drive/folders/1O_QETuaAvuzHK4fpO3pehM7hvy5MykoF?usp=drive_link\")\n",
    "img.save(\"myresume.png\")"
   ]
  },
  {
   "cell_type": "code",
   "execution_count": 9,
   "id": "5012ffa0",
   "metadata": {},
   "outputs": [],
   "source": [
    "'''import qrcode\n",
    "from PIL import Image\n",
    "\n",
    "qr=qrcode.QRCode(version=1,\n",
    "                error_correction=qrcode.constants.ERROR_CORRECT_H,\n",
    "                box_size=10,border=4)\n",
    "qr.add_data(\"https://vizard.ai/tools/youtube-video-editor/youtube-shorts-maker\")\n",
    "qr.make(fit=True)\n",
    "img= qr.make_image(fill_color=\"red\",back_color=\"blue\")\n",
    "img.save(\"vizard_AI.png\")'''"
   ]
  },
  {
   "cell_type": "code",
   "execution_count": null,
   "id": "3c62b46b",
   "metadata": {},
   "outputs": [],
   "source": []
  }
 ],
 "metadata": {
  "kernelspec": {
   "display_name": "Python 3 (ipykernel)",
   "language": "python",
   "name": "python3"
  },
  "language_info": {
   "codemirror_mode": {
    "name": "ipython",
    "version": 3
   },
   "file_extension": ".py",
   "mimetype": "text/x-python",
   "name": "python",
   "nbconvert_exporter": "python",
   "pygments_lexer": "ipython3",
   "version": "3.9.12"
  }
 },
 "nbformat": 4,
 "nbformat_minor": 5
}
